{
 "cells": [
  {
   "cell_type": "code",
   "execution_count": null,
   "id": "06bb12fc",
   "metadata": {
    "vscode": {
     "languageId": "plaintext"
    }
   },
   "outputs": [],
   "source": [
    "# Quantum Circuit Simulation using IBM Quantum Experience\n",
    "\n",
    "import qiskit\n",
    "from qiskit import QuantumCircuit, execute, Aer"
   ]
  },
  {
   "cell_type": "code",
   "execution_count": null,
   "id": "d6dca9e3",
   "metadata": {
    "vscode": {
     "languageId": "plaintext"
    }
   },
   "outputs": [],
   "source": [
    "# Apply gates\n",
    "qc.h(0)  # Hadamard gate on qubit 0\n",
    "qc.cx(0, 1)  # CNOT gate with control qubit 0 and target qubit 1"
   ]
  },
  {
   "cell_type": "code",
   "execution_count": null,
   "id": "0f4a2295",
   "metadata": {
    "vscode": {
     "languageId": "plaintext"
    }
   },
   "outputs": [],
   "source": [
    "# Measure both qubits\n",
    "qc.measure([0,1], [0,1])"
   ]
  },
  {
   "cell_type": "code",
   "execution_count": null,
   "id": "c8cca1e5",
   "metadata": {
    "vscode": {
     "languageId": "plaintext"
    }
   },
   "outputs": [],
   "source": [
    "\n",
    "# Execute the circuit on a simulator\n",
    "backend = Aer.get_backend('qasm_simulator')\n",
    "job = execute(qc, backend, shots=1000)\n",
    "result = job.result()"
   ]
  },
  {
   "cell_type": "code",
   "execution_count": null,
   "id": "0b47f882",
   "metadata": {
    "vscode": {
     "languageId": "plaintext"
    }
   },
   "outputs": [],
   "source": [
    "# Get the measurement counts\n",
    "counts = result.get_counts(qc)\n",
    "print(counts)"
   ]
  },
  {
   "cell_type": "code",
   "execution_count": null,
   "id": "d53c6699",
   "metadata": {
    "vscode": {
     "languageId": "plaintext"
    }
   },
   "outputs": [],
   "source": [
    "# Visualization of the circuit\n",
    "qc.draw()\n"
   ]
  }
 ],
 "metadata": {
  "language_info": {
   "name": "python"
  }
 },
 "nbformat": 4,
 "nbformat_minor": 5
}
