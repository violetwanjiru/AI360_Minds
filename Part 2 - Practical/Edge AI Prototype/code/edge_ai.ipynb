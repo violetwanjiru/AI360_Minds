{
  "nbformat": 4,
  "nbformat_minor": 0,
  "metadata": {
    "colab": {
      "provenance": []
    },
    "kernelspec": {
      "name": "python3",
      "display_name": "Python 3"
    },
    "language_info": {
      "name": "python"
    }
  },
  "cells": [
    {
      "cell_type": "markdown",
      "metadata": {
        "id": "1d95775a"
      },
      "source": [
        "# Task\n",
        "Train a lightweight image classification model using TensorFlow Lite for recognizing recyclable items using the dataset provided in \"/content/waste.zip\". Convert the model to TensorFlow Lite, test it, and explain the benefits of Edge AI for real-time applications. Deliverables: Code and a report with accuracy metrics and deployment steps."
      ]
    },
    {
      "cell_type": "markdown",
      "metadata": {
        "id": "26d8eef5"
      },
      "source": [
        "## Data loading and preprocessing\n",
        "\n",
        "### Subtask:\n",
        "Load and preprocess the image dataset from \"/content/waste.zip\". This will involve extracting the zip file, organizing the data, and preparing it for use with TensorFlow.\n"
      ]
    },
    {
      "cell_type": "markdown",
      "metadata": {
        "id": "5102db9a"
      },
      "source": [
        "**Reasoning**:\n",
        "Extract the zip file containing the image dataset and load the training and validation datasets using `image_dataset_from_directory`.\n",
        "\n"
      ]
    },
    {
      "cell_type": "code",
      "metadata": {
        "colab": {
          "base_uri": "https://localhost:8080/"
        },
        "id": "5e9078a8",
        "outputId": "05716867-9faf-4e2d-c9c1-01d9909e34fb"
      },
      "source": [
        "import zipfile\n",
        "import os\n",
        "import tensorflow as tf\n",
        "\n",
        "# Create a directory to extract the zip file\n",
        "extract_dir = '/content/waste'\n",
        "os.makedirs(extract_dir, exist_ok=True)\n",
        "\n",
        "# Extract the zip file\n",
        "with zipfile.ZipFile('/content/waste.zip', 'r') as zip_ref:\n",
        "    zip_ref.extractall(extract_dir)\n",
        "\n",
        "# Define the path to the extracted dataset\n",
        "dataset_dir = os.path.join(extract_dir, 'waste') # Assuming the zip contains a 'waste' folder\n",
        "\n",
        "# Load the training and validation datasets\n",
        "train_ds = tf.keras.utils.image_dataset_from_directory(\n",
        "    dataset_dir,\n",
        "    labels='inferred',\n",
        "    label_mode='categorical',\n",
        "    validation_split=0.2,\n",
        "    subset='training',\n",
        "    seed=123,\n",
        "    image_size=(img_height, img_width),\n",
        "    batch_size=batch_size)\n",
        "\n",
        "val_ds = tf.keras.utils.image_dataset_from_directory(\n",
        "    dataset_dir,\n",
        "    labels='inferred',\n",
        "    label_mode='categorical',\n",
        "    validation_split=0.2,\n",
        "    subset='validation',\n",
        "    seed=123,\n",
        "    image_size=(img_height, img_width),\n",
        "    batch_size=batch_size)\n",
        "\n",
        "# Get the class names\n",
        "class_names = train_ds.class_names\n",
        "print(f\"Class names: {class_names}\")\n",
        "print(f\"Number of classes: {len(class_names)}\")"
      ],
      "execution_count": 7,
      "outputs": [
        {
          "output_type": "stream",
          "name": "stdout",
          "text": [
            "Found 15000 files belonging to 1 classes.\n",
            "Using 12000 files for training.\n",
            "Found 15000 files belonging to 1 classes.\n",
            "Using 3000 files for validation.\n",
            "Class names: ['images']\n",
            "Number of classes: 1\n"
          ]
        }
      ]
    },
    {
      "cell_type": "markdown",
      "metadata": {
        "id": "77107f50"
      },
      "source": [
        "**Reasoning**:\n",
        "The dataset loading seems to have a problem as it found only 1 class instead of 30. This is likely due to how the data is organized within the zip file. Need to inspect the extracted directory structure to correctly load the data.\n",
        "\n"
      ]
    },
    {
      "cell_type": "code",
      "metadata": {
        "colab": {
          "base_uri": "https://localhost:8080/"
        },
        "id": "bd3b8118",
        "outputId": "727d4730-2d02-46c4-8c6b-b0da47f93818"
      },
      "source": [
        "# Inspect the directory structure\n",
        "!ls -l /content/waste/waste\n",
        "\n",
        "# Re-attempt loading the dataset after inspecting the structure\n",
        "# Assuming the subdirectories containing images for each class are directly under /content/waste/waste\n",
        "train_ds = tf.keras.utils.image_dataset_from_directory(\n",
        "    dataset_dir,\n",
        "    labels='inferred',\n",
        "    label_mode='categorical',\n",
        "    validation_split=0.2,\n",
        "    subset='training',\n",
        "    seed=123,\n",
        "    image_size=(img_height, img_width),\n",
        "    batch_size=batch_size)\n",
        "\n",
        "val_ds = tf.keras.utils.image_dataset_from_directory(\n",
        "    dataset_dir,\n",
        "    labels='inferred',\n",
        "    label_mode='categorical',\n",
        "    validation_split=0.2,\n",
        "    subset='validation',\n",
        "    seed=123,\n",
        "    image_size=(img_height, img_width),\n",
        "    batch_size=batch_size)\n",
        "\n",
        "# Get the class names again\n",
        "class_names = train_ds.class_names\n",
        "print(f\"Class names: {class_names}\")\n",
        "print(f\"Number of classes: {len(class_names)}\")"
      ],
      "execution_count": 8,
      "outputs": [
        {
          "output_type": "stream",
          "name": "stdout",
          "text": [
            "total 8\n",
            "drwxr-xr-x 3 root root 4096 Jul 24 12:50 images\n",
            "-rw-r--r-- 1 root root 2775 Jul 24 13:59 README.txt\n",
            "Found 15000 files belonging to 1 classes.\n",
            "Using 12000 files for training.\n",
            "Found 15000 files belonging to 1 classes.\n",
            "Using 3000 files for validation.\n",
            "Class names: ['images']\n",
            "Number of classes: 1\n"
          ]
        }
      ]
    },
    {
      "cell_type": "markdown",
      "metadata": {
        "id": "a5ce0859"
      },
      "source": [
        "**Reasoning**:\n",
        "The previous attempt to load the dataset still resulted in only one class being found. The directory listing shows a single 'images' directory under `/content/waste/waste`. This indicates that the actual class subdirectories are likely within this 'images' directory. I need to adjust the `dataset_dir` to point to `/content/waste/waste/images` to correctly load the data based on the subdirectories within 'images'. After correcting the path, I will apply a simple normalization preprocessing step to the datasets.\n",
        "\n"
      ]
    },
    {
      "cell_type": "code",
      "metadata": {
        "colab": {
          "base_uri": "https://localhost:8080/"
        },
        "id": "875180c9",
        "outputId": "e0b4a705-309a-40f9-fd0b-95775e8ce43e"
      },
      "source": [
        "# Correct the dataset directory to point to the 'images' folder\n",
        "dataset_dir_corrected = os.path.join(dataset_dir, 'images')\n",
        "\n",
        "# Load the training and validation datasets with the corrected path\n",
        "train_ds = tf.keras.utils.image_dataset_from_directory(\n",
        "    dataset_dir_corrected,\n",
        "    labels='inferred',\n",
        "    label_mode='categorical',\n",
        "    validation_split=0.2,\n",
        "    subset='training',\n",
        "    seed=123,\n",
        "    image_size=(img_height, img_width),\n",
        "    batch_size=batch_size)\n",
        "\n",
        "val_ds = tf.keras.utils.image_dataset_from_directory(\n",
        "    dataset_dir_corrected,\n",
        "    labels='inferred',\n",
        "    label_mode='categorical',\n",
        "    validation_split=0.2,\n",
        "    subset='validation',\n",
        "    seed=123,\n",
        "    image_size=(img_height, img_width),\n",
        "    batch_size=batch_size)\n",
        "\n",
        "# Get the class names again\n",
        "class_names = train_ds.class_names\n",
        "print(f\"Class names: {class_names}\")\n",
        "print(f\"Number of classes: {len(class_names)}\")\n",
        "\n",
        "# Apply normalization\n",
        "normalization_layer = tf.keras.layers.Rescaling(1./255)\n",
        "\n",
        "train_ds = train_ds.map(lambda x, y: (normalization_layer(x), y))\n",
        "val_ds = val_ds.map(lambda x, y: (normalization_layer(x), y))\n",
        "\n",
        "# Prefetch for performance\n",
        "AUTOTUNE = tf.data.AUTOTUNE\n",
        "\n",
        "train_ds = train_ds.cache().prefetch(buffer_size=AUTOTUNE)\n",
        "val_ds = val_ds.cache().prefetch(buffer_size=AUTOTUNE)"
      ],
      "execution_count": 9,
      "outputs": [
        {
          "output_type": "stream",
          "name": "stdout",
          "text": [
            "Found 15000 files belonging to 1 classes.\n",
            "Using 12000 files for training.\n",
            "Found 15000 files belonging to 1 classes.\n",
            "Using 3000 files for validation.\n",
            "Class names: ['images']\n",
            "Number of classes: 1\n"
          ]
        }
      ]
    },
    {
      "cell_type": "markdown",
      "metadata": {
        "id": "2e618db5"
      },
      "source": [
        "## Data loading and preprocessing\n",
        "\n",
        "### Subtask:\n",
        "Load and preprocess the image dataset from \"/content/waste.zip\". This will involve extracting the zip file, organizing the data, and preparing it for use with TensorFlow.\n"
      ]
    },
    {
      "cell_type": "markdown",
      "metadata": {
        "id": "50c4d7b7"
      },
      "source": [
        "**Reasoning**:\n",
        "The previous attempts to load the dataset using `tf.keras.utils.image_dataset_from_directory` failed because the function only detected one class. This likely means the directory structure was not as expected (class subdirectories directly under the provided path). To proceed, I need to understand the actual directory structure within the `images` folder to correctly point `image_dataset_from_directory` to the location containing the class folders. I will list the contents of `/content/waste/waste/images` to verify the structure.\n",
        "\n"
      ]
    },
    {
      "cell_type": "code",
      "metadata": {
        "colab": {
          "base_uri": "https://localhost:8080/"
        },
        "id": "31a4f711",
        "outputId": "3f3fff43-e5c8-474d-81e4-6287df11de55"
      },
      "source": [
        "# List the contents of the 'images' directory\n",
        "!ls -l /content/waste/waste/images"
      ],
      "execution_count": 10,
      "outputs": [
        {
          "output_type": "stream",
          "name": "stdout",
          "text": [
            "total 4\n",
            "drwxr-xr-x 32 root root 4096 Jul 24 12:50 images\n"
          ]
        }
      ]
    },
    {
      "cell_type": "markdown",
      "metadata": {
        "id": "9cfc94b9"
      },
      "source": [
        "**Reasoning**:\n",
        "The previous `ls -l` command showed that the `/content/waste/waste/images` directory *itself* contains another directory also named `images`. This is unexpected and likely the reason why `image_dataset_from_directory` is not finding the class subdirectories. The actual class directories must be inside `/content/waste/waste/images/images`. I need to verify this hypothesis by listing the contents of `/content/waste/waste/images/images`.\n",
        "\n"
      ]
    },
    {
      "cell_type": "code",
      "metadata": {
        "colab": {
          "base_uri": "https://localhost:8080/"
        },
        "id": "f8498338",
        "outputId": "992a83d1-ec4b-403a-efa7-1bed6dbb2f7e"
      },
      "source": [
        "# List the contents of the nested 'images' directory\n",
        "!ls -l /content/waste/waste/images/images"
      ],
      "execution_count": 11,
      "outputs": [
        {
          "output_type": "stream",
          "name": "stdout",
          "text": [
            "total 120\n",
            "drwxr-xr-x 4 root root 4096 Jul 24 12:50 aerosol_cans\n",
            "drwxr-xr-x 4 root root 4096 Jul 24 12:50 aluminum_food_cans\n",
            "drwxr-xr-x 4 root root 4096 Jul 24 12:50 aluminum_soda_cans\n",
            "drwxr-xr-x 4 root root 4096 Jul 24 12:50 cardboard_boxes\n",
            "drwxr-xr-x 4 root root 4096 Jul 24 12:50 cardboard_packaging\n",
            "drwxr-xr-x 4 root root 4096 Jul 24 12:50 clothing\n",
            "drwxr-xr-x 4 root root 4096 Jul 24 12:50 coffee_grounds\n",
            "drwxr-xr-x 4 root root 4096 Jul 24 12:50 disposable_plastic_cutlery\n",
            "drwxr-xr-x 4 root root 4096 Jul 24 12:50 eggshells\n",
            "drwxr-xr-x 4 root root 4096 Jul 24 12:50 food_waste\n",
            "drwxr-xr-x 4 root root 4096 Jul 24 12:50 glass_beverage_bottles\n",
            "drwxr-xr-x 4 root root 4096 Jul 24 12:50 glass_cosmetic_containers\n",
            "drwxr-xr-x 4 root root 4096 Jul 24 12:50 glass_food_jars\n",
            "drwxr-xr-x 4 root root 4096 Jul 24 12:50 magazines\n",
            "drwxr-xr-x 4 root root 4096 Jul 24 12:50 newspaper\n",
            "drwxr-xr-x 4 root root 4096 Jul 24 12:50 office_paper\n",
            "drwxr-xr-x 4 root root 4096 Jul 24 12:50 paper_cups\n",
            "drwxr-xr-x 4 root root 4096 Jul 24 12:50 plastic_cup_lids\n",
            "drwxr-xr-x 4 root root 4096 Jul 24 12:50 plastic_detergent_bottles\n",
            "drwxr-xr-x 4 root root 4096 Jul 24 12:50 plastic_food_containers\n",
            "drwxr-xr-x 4 root root 4096 Jul 24 12:50 plastic_shopping_bags\n",
            "drwxr-xr-x 4 root root 4096 Jul 24 12:50 plastic_soda_bottles\n",
            "drwxr-xr-x 4 root root 4096 Jul 24 12:50 plastic_straws\n",
            "drwxr-xr-x 4 root root 4096 Jul 24 12:50 plastic_trash_bags\n",
            "drwxr-xr-x 4 root root 4096 Jul 24 12:50 plastic_water_bottles\n",
            "drwxr-xr-x 4 root root 4096 Jul 24 12:50 shoes\n",
            "drwxr-xr-x 4 root root 4096 Jul 24 12:50 steel_food_cans\n",
            "drwxr-xr-x 4 root root 4096 Jul 24 12:50 styrofoam_cups\n",
            "drwxr-xr-x 4 root root 4096 Jul 24 12:50 styrofoam_food_containers\n",
            "drwxr-xr-x 4 root root 4096 Jul 24 12:50 tea_bags\n"
          ]
        }
      ]
    },
    {
      "cell_type": "markdown",
      "metadata": {
        "id": "34491645"
      },
      "source": [
        "**Reasoning**:\n",
        "The `ls -l` output confirms that the class-specific subdirectories are located within `/content/waste/waste/images/images`. Now I can correctly load the training and validation datasets using `tf.keras.utils.image_dataset_from_directory` by providing this correct path. I will also apply the normalization layer and prefetch the datasets as instructed, and print the class names and count to verify the loading.\n",
        "\n"
      ]
    },
    {
      "cell_type": "code",
      "metadata": {
        "colab": {
          "base_uri": "https://localhost:8080/"
        },
        "id": "caa1ad27",
        "outputId": "aec0da4f-d52f-4372-aba8-b6addc41d3fb"
      },
      "source": [
        "import tensorflow as tf\n",
        "import os\n",
        "\n",
        "# Define the corrected path to the dataset containing class subdirectories\n",
        "dataset_dir_corrected = '/content/waste/waste/images/images'\n",
        "\n",
        "# Load the training and validation datasets\n",
        "train_ds = tf.keras.utils.image_dataset_from_directory(\n",
        "    dataset_dir_corrected,\n",
        "    labels='inferred',\n",
        "    label_mode='categorical',\n",
        "    validation_split=0.2,\n",
        "    subset='training',\n",
        "    seed=123,\n",
        "    image_size=(img_height, img_width),\n",
        "    batch_size=batch_size)\n",
        "\n",
        "val_ds = tf.keras.utils.image_dataset_from_directory(\n",
        "    dataset_dir_corrected,\n",
        "    labels='inferred',\n",
        "    label_mode='categorical',\n",
        "    validation_split=0.2,\n",
        "    subset='validation',\n",
        "    seed=123,\n",
        "    image_size=(img_height, img_width),\n",
        "    batch_size=batch_size)\n",
        "\n",
        "# Get the class names\n",
        "class_names = train_ds.class_names\n",
        "print(f\"Class names: {class_names}\")\n",
        "print(f\"Number of classes: {len(class_names)}\")\n",
        "\n",
        "# Apply normalization\n",
        "normalization_layer = tf.keras.layers.Rescaling(1./255)\n",
        "\n",
        "train_ds = train_ds.map(lambda x, y: (normalization_layer(x), y))\n",
        "val_ds = val_ds.map(lambda x, y: (normalization_layer(x), y))\n",
        "\n",
        "# Prefetch for performance\n",
        "AUTOTUNE = tf.data.AUTOTUNE\n",
        "\n",
        "train_ds = train_ds.cache().prefetch(buffer_size=AUTOTUNE)\n",
        "val_ds = val_ds.cache().prefetch(buffer_size=AUTOTUNE)"
      ],
      "execution_count": 12,
      "outputs": [
        {
          "output_type": "stream",
          "name": "stdout",
          "text": [
            "Found 15000 files belonging to 30 classes.\n",
            "Using 12000 files for training.\n",
            "Found 15000 files belonging to 30 classes.\n",
            "Using 3000 files for validation.\n",
            "Class names: ['aerosol_cans', 'aluminum_food_cans', 'aluminum_soda_cans', 'cardboard_boxes', 'cardboard_packaging', 'clothing', 'coffee_grounds', 'disposable_plastic_cutlery', 'eggshells', 'food_waste', 'glass_beverage_bottles', 'glass_cosmetic_containers', 'glass_food_jars', 'magazines', 'newspaper', 'office_paper', 'paper_cups', 'plastic_cup_lids', 'plastic_detergent_bottles', 'plastic_food_containers', 'plastic_shopping_bags', 'plastic_soda_bottles', 'plastic_straws', 'plastic_trash_bags', 'plastic_water_bottles', 'shoes', 'steel_food_cans', 'styrofoam_cups', 'styrofoam_food_containers', 'tea_bags']\n",
            "Number of classes: 30\n"
          ]
        }
      ]
    },
    {
      "cell_type": "markdown",
      "metadata": {
        "id": "cbedbd7b"
      },
      "source": [
        "## Model definition\n",
        "\n",
        "### Subtask:\n",
        "Define a lightweight image classification model using TensorFlow. This will involve choosing a suitable architecture and configuring it for the recyclable item classification task.\n"
      ]
    },
    {
      "cell_type": "markdown",
      "metadata": {
        "id": "4a944893"
      },
      "source": [
        "**Reasoning**:\n",
        "Import necessary layers and the Sequential model from TensorFlow Keras.\n",
        "\n"
      ]
    },
    {
      "cell_type": "code",
      "metadata": {
        "id": "4488d7bf"
      },
      "source": [
        "from tensorflow.keras.layers import Conv2D, MaxPooling2D, Flatten, Dense\n",
        "from tensorflow.keras.models import Sequential"
      ],
      "execution_count": 13,
      "outputs": []
    },
    {
      "cell_type": "markdown",
      "metadata": {
        "id": "a22ebe6a"
      },
      "source": [
        "**Reasoning**:\n",
        "Define a lightweight CNN model using the imported layers and Sequential model, then print the model summary.\n",
        "\n"
      ]
    },
    {
      "cell_type": "code",
      "metadata": {
        "colab": {
          "base_uri": "https://localhost:8080/",
          "height": 471
        },
        "id": "7e474ebf",
        "outputId": "80c36d4f-7064-4be6-ba04-fa234e324eae"
      },
      "source": [
        "model = Sequential([\n",
        "    Conv2D(filters=16, kernel_size=(3, 3), activation='relu', input_shape=(img_height, img_width, 3)),\n",
        "    MaxPooling2D(pool_size=(2, 2)),\n",
        "    Conv2D(filters=32, kernel_size=(3, 3), activation='relu'),\n",
        "    MaxPooling2D(pool_size=(2, 2)),\n",
        "    Conv2D(filters=64, kernel_size=(3, 3), activation='relu'),\n",
        "    MaxPooling2D(pool_size=(2, 2)),\n",
        "    Flatten(),\n",
        "    Dense(units=128, activation='relu'),\n",
        "    Dense(units=output_units, activation='softmax')\n",
        "])\n",
        "\n",
        "model.summary()"
      ],
      "execution_count": 14,
      "outputs": [
        {
          "output_type": "stream",
          "name": "stderr",
          "text": [
            "/usr/local/lib/python3.11/dist-packages/keras/src/layers/convolutional/base_conv.py:107: UserWarning: Do not pass an `input_shape`/`input_dim` argument to a layer. When using Sequential models, prefer using an `Input(shape)` object as the first layer in the model instead.\n",
            "  super().__init__(activity_regularizer=activity_regularizer, **kwargs)\n"
          ]
        },
        {
          "output_type": "display_data",
          "data": {
            "text/plain": [
              "\u001b[1mModel: \"sequential_2\"\u001b[0m\n"
            ],
            "text/html": [
              "<pre style=\"white-space:pre;overflow-x:auto;line-height:normal;font-family:Menlo,'DejaVu Sans Mono',consolas,'Courier New',monospace\"><span style=\"font-weight: bold\">Model: \"sequential_2\"</span>\n",
              "</pre>\n"
            ]
          },
          "metadata": {}
        },
        {
          "output_type": "display_data",
          "data": {
            "text/plain": [
              "┏━━━━━━━━━━━━━━━━━━━━━━━━━━━━━━━━━┳━━━━━━━━━━━━━━━━━━━━━━━━┳━━━━━━━━━━━━━━━┓\n",
              "┃\u001b[1m \u001b[0m\u001b[1mLayer (type)                   \u001b[0m\u001b[1m \u001b[0m┃\u001b[1m \u001b[0m\u001b[1mOutput Shape          \u001b[0m\u001b[1m \u001b[0m┃\u001b[1m \u001b[0m\u001b[1m      Param #\u001b[0m\u001b[1m \u001b[0m┃\n",
              "┡━━━━━━━━━━━━━━━━━━━━━━━━━━━━━━━━━╇━━━━━━━━━━━━━━━━━━━━━━━━╇━━━━━━━━━━━━━━━┩\n",
              "│ conv2d_6 (\u001b[38;5;33mConv2D\u001b[0m)               │ (\u001b[38;5;45mNone\u001b[0m, \u001b[38;5;34m126\u001b[0m, \u001b[38;5;34m126\u001b[0m, \u001b[38;5;34m16\u001b[0m)   │           \u001b[38;5;34m448\u001b[0m │\n",
              "├─────────────────────────────────┼────────────────────────┼───────────────┤\n",
              "│ max_pooling2d_6 (\u001b[38;5;33mMaxPooling2D\u001b[0m)  │ (\u001b[38;5;45mNone\u001b[0m, \u001b[38;5;34m63\u001b[0m, \u001b[38;5;34m63\u001b[0m, \u001b[38;5;34m16\u001b[0m)     │             \u001b[38;5;34m0\u001b[0m │\n",
              "├─────────────────────────────────┼────────────────────────┼───────────────┤\n",
              "│ conv2d_7 (\u001b[38;5;33mConv2D\u001b[0m)               │ (\u001b[38;5;45mNone\u001b[0m, \u001b[38;5;34m61\u001b[0m, \u001b[38;5;34m61\u001b[0m, \u001b[38;5;34m32\u001b[0m)     │         \u001b[38;5;34m4,640\u001b[0m │\n",
              "├─────────────────────────────────┼────────────────────────┼───────────────┤\n",
              "│ max_pooling2d_7 (\u001b[38;5;33mMaxPooling2D\u001b[0m)  │ (\u001b[38;5;45mNone\u001b[0m, \u001b[38;5;34m30\u001b[0m, \u001b[38;5;34m30\u001b[0m, \u001b[38;5;34m32\u001b[0m)     │             \u001b[38;5;34m0\u001b[0m │\n",
              "├─────────────────────────────────┼────────────────────────┼───────────────┤\n",
              "│ conv2d_8 (\u001b[38;5;33mConv2D\u001b[0m)               │ (\u001b[38;5;45mNone\u001b[0m, \u001b[38;5;34m28\u001b[0m, \u001b[38;5;34m28\u001b[0m, \u001b[38;5;34m64\u001b[0m)     │        \u001b[38;5;34m18,496\u001b[0m │\n",
              "├─────────────────────────────────┼────────────────────────┼───────────────┤\n",
              "│ max_pooling2d_8 (\u001b[38;5;33mMaxPooling2D\u001b[0m)  │ (\u001b[38;5;45mNone\u001b[0m, \u001b[38;5;34m14\u001b[0m, \u001b[38;5;34m14\u001b[0m, \u001b[38;5;34m64\u001b[0m)     │             \u001b[38;5;34m0\u001b[0m │\n",
              "├─────────────────────────────────┼────────────────────────┼───────────────┤\n",
              "│ flatten_2 (\u001b[38;5;33mFlatten\u001b[0m)             │ (\u001b[38;5;45mNone\u001b[0m, \u001b[38;5;34m12544\u001b[0m)          │             \u001b[38;5;34m0\u001b[0m │\n",
              "├─────────────────────────────────┼────────────────────────┼───────────────┤\n",
              "│ dense_4 (\u001b[38;5;33mDense\u001b[0m)                 │ (\u001b[38;5;45mNone\u001b[0m, \u001b[38;5;34m128\u001b[0m)            │     \u001b[38;5;34m1,605,760\u001b[0m │\n",
              "├─────────────────────────────────┼────────────────────────┼───────────────┤\n",
              "│ dense_5 (\u001b[38;5;33mDense\u001b[0m)                 │ (\u001b[38;5;45mNone\u001b[0m, \u001b[38;5;34m30\u001b[0m)             │         \u001b[38;5;34m3,870\u001b[0m │\n",
              "└─────────────────────────────────┴────────────────────────┴───────────────┘\n"
            ],
            "text/html": [
              "<pre style=\"white-space:pre;overflow-x:auto;line-height:normal;font-family:Menlo,'DejaVu Sans Mono',consolas,'Courier New',monospace\">┏━━━━━━━━━━━━━━━━━━━━━━━━━━━━━━━━━┳━━━━━━━━━━━━━━━━━━━━━━━━┳━━━━━━━━━━━━━━━┓\n",
              "┃<span style=\"font-weight: bold\"> Layer (type)                    </span>┃<span style=\"font-weight: bold\"> Output Shape           </span>┃<span style=\"font-weight: bold\">       Param # </span>┃\n",
              "┡━━━━━━━━━━━━━━━━━━━━━━━━━━━━━━━━━╇━━━━━━━━━━━━━━━━━━━━━━━━╇━━━━━━━━━━━━━━━┩\n",
              "│ conv2d_6 (<span style=\"color: #0087ff; text-decoration-color: #0087ff\">Conv2D</span>)               │ (<span style=\"color: #00d7ff; text-decoration-color: #00d7ff\">None</span>, <span style=\"color: #00af00; text-decoration-color: #00af00\">126</span>, <span style=\"color: #00af00; text-decoration-color: #00af00\">126</span>, <span style=\"color: #00af00; text-decoration-color: #00af00\">16</span>)   │           <span style=\"color: #00af00; text-decoration-color: #00af00\">448</span> │\n",
              "├─────────────────────────────────┼────────────────────────┼───────────────┤\n",
              "│ max_pooling2d_6 (<span style=\"color: #0087ff; text-decoration-color: #0087ff\">MaxPooling2D</span>)  │ (<span style=\"color: #00d7ff; text-decoration-color: #00d7ff\">None</span>, <span style=\"color: #00af00; text-decoration-color: #00af00\">63</span>, <span style=\"color: #00af00; text-decoration-color: #00af00\">63</span>, <span style=\"color: #00af00; text-decoration-color: #00af00\">16</span>)     │             <span style=\"color: #00af00; text-decoration-color: #00af00\">0</span> │\n",
              "├─────────────────────────────────┼────────────────────────┼───────────────┤\n",
              "│ conv2d_7 (<span style=\"color: #0087ff; text-decoration-color: #0087ff\">Conv2D</span>)               │ (<span style=\"color: #00d7ff; text-decoration-color: #00d7ff\">None</span>, <span style=\"color: #00af00; text-decoration-color: #00af00\">61</span>, <span style=\"color: #00af00; text-decoration-color: #00af00\">61</span>, <span style=\"color: #00af00; text-decoration-color: #00af00\">32</span>)     │         <span style=\"color: #00af00; text-decoration-color: #00af00\">4,640</span> │\n",
              "├─────────────────────────────────┼────────────────────────┼───────────────┤\n",
              "│ max_pooling2d_7 (<span style=\"color: #0087ff; text-decoration-color: #0087ff\">MaxPooling2D</span>)  │ (<span style=\"color: #00d7ff; text-decoration-color: #00d7ff\">None</span>, <span style=\"color: #00af00; text-decoration-color: #00af00\">30</span>, <span style=\"color: #00af00; text-decoration-color: #00af00\">30</span>, <span style=\"color: #00af00; text-decoration-color: #00af00\">32</span>)     │             <span style=\"color: #00af00; text-decoration-color: #00af00\">0</span> │\n",
              "├─────────────────────────────────┼────────────────────────┼───────────────┤\n",
              "│ conv2d_8 (<span style=\"color: #0087ff; text-decoration-color: #0087ff\">Conv2D</span>)               │ (<span style=\"color: #00d7ff; text-decoration-color: #00d7ff\">None</span>, <span style=\"color: #00af00; text-decoration-color: #00af00\">28</span>, <span style=\"color: #00af00; text-decoration-color: #00af00\">28</span>, <span style=\"color: #00af00; text-decoration-color: #00af00\">64</span>)     │        <span style=\"color: #00af00; text-decoration-color: #00af00\">18,496</span> │\n",
              "├─────────────────────────────────┼────────────────────────┼───────────────┤\n",
              "│ max_pooling2d_8 (<span style=\"color: #0087ff; text-decoration-color: #0087ff\">MaxPooling2D</span>)  │ (<span style=\"color: #00d7ff; text-decoration-color: #00d7ff\">None</span>, <span style=\"color: #00af00; text-decoration-color: #00af00\">14</span>, <span style=\"color: #00af00; text-decoration-color: #00af00\">14</span>, <span style=\"color: #00af00; text-decoration-color: #00af00\">64</span>)     │             <span style=\"color: #00af00; text-decoration-color: #00af00\">0</span> │\n",
              "├─────────────────────────────────┼────────────────────────┼───────────────┤\n",
              "│ flatten_2 (<span style=\"color: #0087ff; text-decoration-color: #0087ff\">Flatten</span>)             │ (<span style=\"color: #00d7ff; text-decoration-color: #00d7ff\">None</span>, <span style=\"color: #00af00; text-decoration-color: #00af00\">12544</span>)          │             <span style=\"color: #00af00; text-decoration-color: #00af00\">0</span> │\n",
              "├─────────────────────────────────┼────────────────────────┼───────────────┤\n",
              "│ dense_4 (<span style=\"color: #0087ff; text-decoration-color: #0087ff\">Dense</span>)                 │ (<span style=\"color: #00d7ff; text-decoration-color: #00d7ff\">None</span>, <span style=\"color: #00af00; text-decoration-color: #00af00\">128</span>)            │     <span style=\"color: #00af00; text-decoration-color: #00af00\">1,605,760</span> │\n",
              "├─────────────────────────────────┼────────────────────────┼───────────────┤\n",
              "│ dense_5 (<span style=\"color: #0087ff; text-decoration-color: #0087ff\">Dense</span>)                 │ (<span style=\"color: #00d7ff; text-decoration-color: #00d7ff\">None</span>, <span style=\"color: #00af00; text-decoration-color: #00af00\">30</span>)             │         <span style=\"color: #00af00; text-decoration-color: #00af00\">3,870</span> │\n",
              "└─────────────────────────────────┴────────────────────────┴───────────────┘\n",
              "</pre>\n"
            ]
          },
          "metadata": {}
        },
        {
          "output_type": "display_data",
          "data": {
            "text/plain": [
              "\u001b[1m Total params: \u001b[0m\u001b[38;5;34m1,633,214\u001b[0m (6.23 MB)\n"
            ],
            "text/html": [
              "<pre style=\"white-space:pre;overflow-x:auto;line-height:normal;font-family:Menlo,'DejaVu Sans Mono',consolas,'Courier New',monospace\"><span style=\"font-weight: bold\"> Total params: </span><span style=\"color: #00af00; text-decoration-color: #00af00\">1,633,214</span> (6.23 MB)\n",
              "</pre>\n"
            ]
          },
          "metadata": {}
        },
        {
          "output_type": "display_data",
          "data": {
            "text/plain": [
              "\u001b[1m Trainable params: \u001b[0m\u001b[38;5;34m1,633,214\u001b[0m (6.23 MB)\n"
            ],
            "text/html": [
              "<pre style=\"white-space:pre;overflow-x:auto;line-height:normal;font-family:Menlo,'DejaVu Sans Mono',consolas,'Courier New',monospace\"><span style=\"font-weight: bold\"> Trainable params: </span><span style=\"color: #00af00; text-decoration-color: #00af00\">1,633,214</span> (6.23 MB)\n",
              "</pre>\n"
            ]
          },
          "metadata": {}
        },
        {
          "output_type": "display_data",
          "data": {
            "text/plain": [
              "\u001b[1m Non-trainable params: \u001b[0m\u001b[38;5;34m0\u001b[0m (0.00 B)\n"
            ],
            "text/html": [
              "<pre style=\"white-space:pre;overflow-x:auto;line-height:normal;font-family:Menlo,'DejaVu Sans Mono',consolas,'Courier New',monospace\"><span style=\"font-weight: bold\"> Non-trainable params: </span><span style=\"color: #00af00; text-decoration-color: #00af00\">0</span> (0.00 B)\n",
              "</pre>\n"
            ]
          },
          "metadata": {}
        }
      ]
    },
    {
      "cell_type": "markdown",
      "metadata": {
        "id": "2bd926e2"
      },
      "source": [
        "## Model training\n",
        "\n",
        "### Subtask:\n",
        "Train the defined model using the prepared dataset. This will involve compiling the model, setting up the training process, and monitoring its performance."
      ]
    },
    {
      "cell_type": "markdown",
      "metadata": {
        "id": "41fe6d94"
      },
      "source": [
        "**Reasoning**:\n",
        "Compile and train the defined model using the specified optimizer, loss function, and metrics, and store the training history."
      ]
    },
    {
      "cell_type": "code",
      "metadata": {
        "colab": {
          "base_uri": "https://localhost:8080/"
        },
        "id": "d68d0864",
        "outputId": "c7653b6b-58fa-403f-902c-e9bbe71b0b7e"
      },
      "source": [
        "model.compile(optimizer='adam',\n",
        "              loss='categorical_crossentropy',\n",
        "              metrics=['accuracy'])\n",
        "\n",
        "epochs = 15\n",
        "history = model.fit(\n",
        "    train_ds,\n",
        "    validation_data=val_ds,\n",
        "    epochs=epochs\n",
        ")"
      ],
      "execution_count": 17,
      "outputs": [
        {
          "output_type": "stream",
          "name": "stdout",
          "text": [
            "Epoch 1/15\n",
            "\u001b[1m375/375\u001b[0m \u001b[32m━━━━━━━━━━━━━━━━━━━━\u001b[0m\u001b[37m\u001b[0m \u001b[1m173s\u001b[0m 453ms/step - accuracy: 0.9651 - loss: 0.1145 - val_accuracy: 0.6227 - val_loss: 3.5031\n",
            "Epoch 2/15\n",
            "\u001b[1m375/375\u001b[0m \u001b[32m━━━━━━━━━━━━━━━━━━━━\u001b[0m\u001b[37m\u001b[0m \u001b[1m169s\u001b[0m 450ms/step - accuracy: 0.9689 - loss: 0.0924 - val_accuracy: 0.6307 - val_loss: 3.3947\n",
            "Epoch 3/15\n",
            "\u001b[1m375/375\u001b[0m \u001b[32m━━━━━━━━━━━━━━━━━━━━\u001b[0m\u001b[37m\u001b[0m \u001b[1m170s\u001b[0m 454ms/step - accuracy: 0.9670 - loss: 0.1019 - val_accuracy: 0.6253 - val_loss: 3.4610\n",
            "Epoch 4/15\n",
            "\u001b[1m375/375\u001b[0m \u001b[32m━━━━━━━━━━━━━━━━━━━━\u001b[0m\u001b[37m\u001b[0m \u001b[1m169s\u001b[0m 450ms/step - accuracy: 0.9663 - loss: 0.1078 - val_accuracy: 0.6273 - val_loss: 3.6362\n",
            "Epoch 5/15\n",
            "\u001b[1m375/375\u001b[0m \u001b[32m━━━━━━━━━━━━━━━━━━━━\u001b[0m\u001b[37m\u001b[0m \u001b[1m167s\u001b[0m 445ms/step - accuracy: 0.9696 - loss: 0.0932 - val_accuracy: 0.6253 - val_loss: 3.6982\n",
            "Epoch 6/15\n",
            "\u001b[1m375/375\u001b[0m \u001b[32m━━━━━━━━━━━━━━━━━━━━\u001b[0m\u001b[37m\u001b[0m \u001b[1m204s\u001b[0m 450ms/step - accuracy: 0.9735 - loss: 0.0800 - val_accuracy: 0.6293 - val_loss: 3.8757\n",
            "Epoch 7/15\n",
            "\u001b[1m375/375\u001b[0m \u001b[32m━━━━━━━━━━━━━━━━━━━━\u001b[0m\u001b[37m\u001b[0m \u001b[1m169s\u001b[0m 451ms/step - accuracy: 0.9682 - loss: 0.0958 - val_accuracy: 0.6307 - val_loss: 3.6972\n",
            "Epoch 8/15\n",
            "\u001b[1m375/375\u001b[0m \u001b[32m━━━━━━━━━━━━━━━━━━━━\u001b[0m\u001b[37m\u001b[0m \u001b[1m168s\u001b[0m 447ms/step - accuracy: 0.9723 - loss: 0.0870 - val_accuracy: 0.6257 - val_loss: 3.8517\n",
            "Epoch 9/15\n",
            "\u001b[1m375/375\u001b[0m \u001b[32m━━━━━━━━━━━━━━━━━━━━\u001b[0m\u001b[37m\u001b[0m \u001b[1m177s\u001b[0m 473ms/step - accuracy: 0.9715 - loss: 0.0783 - val_accuracy: 0.6287 - val_loss: 3.9764\n",
            "Epoch 10/15\n",
            "\u001b[1m375/375\u001b[0m \u001b[32m━━━━━━━━━━━━━━━━━━━━\u001b[0m\u001b[37m\u001b[0m \u001b[1m203s\u001b[0m 475ms/step - accuracy: 0.9703 - loss: 0.0858 - val_accuracy: 0.6193 - val_loss: 3.8699\n",
            "Epoch 11/15\n",
            "\u001b[1m375/375\u001b[0m \u001b[32m━━━━━━━━━━━━━━━━━━━━\u001b[0m\u001b[37m\u001b[0m \u001b[1m192s\u001b[0m 449ms/step - accuracy: 0.9744 - loss: 0.0779 - val_accuracy: 0.6347 - val_loss: 3.8740\n",
            "Epoch 12/15\n",
            "\u001b[1m375/375\u001b[0m \u001b[32m━━━━━━━━━━━━━━━━━━━━\u001b[0m\u001b[37m\u001b[0m \u001b[1m168s\u001b[0m 449ms/step - accuracy: 0.9742 - loss: 0.0765 - val_accuracy: 0.6260 - val_loss: 3.9153\n",
            "Epoch 13/15\n",
            "\u001b[1m375/375\u001b[0m \u001b[32m━━━━━━━━━━━━━━━━━━━━\u001b[0m\u001b[37m\u001b[0m \u001b[1m201s\u001b[0m 447ms/step - accuracy: 0.9744 - loss: 0.0679 - val_accuracy: 0.6280 - val_loss: 3.7287\n",
            "Epoch 14/15\n",
            "\u001b[1m375/375\u001b[0m \u001b[32m━━━━━━━━━━━━━━━━━━━━\u001b[0m\u001b[37m\u001b[0m \u001b[1m168s\u001b[0m 449ms/step - accuracy: 0.9757 - loss: 0.0689 - val_accuracy: 0.6307 - val_loss: 3.6038\n",
            "Epoch 15/15\n",
            "\u001b[1m375/375\u001b[0m \u001b[32m━━━━━━━━━━━━━━━━━━━━\u001b[0m\u001b[37m\u001b[0m \u001b[1m201s\u001b[0m 445ms/step - accuracy: 0.9789 - loss: 0.0592 - val_accuracy: 0.6283 - val_loss: 3.9788\n"
          ]
        }
      ]
    },
    {
      "cell_type": "markdown",
      "metadata": {
        "id": "70c6d811"
      },
      "source": [
        "## Model Evaluation\n",
        "\n",
        "### Subtask:\n",
        "Evaluate the trained model's performance on a test set to obtain accuracy metrics."
      ]
    },
    {
      "cell_type": "markdown",
      "metadata": {
        "id": "178e8ae1"
      },
      "source": [
        "**Reasoning**:\n",
        "Evaluate the trained model's performance on the validation dataset and print the evaluation results."
      ]
    },
    {
      "cell_type": "code",
      "metadata": {
        "colab": {
          "base_uri": "https://localhost:8080/"
        },
        "id": "be6b1b4f",
        "outputId": "2a1a0796-656d-44fa-cb46-86cda5c91123"
      },
      "source": [
        "loss, accuracy = model.evaluate(val_ds)\n",
        "\n",
        "print(f\"Validation Loss: {loss}\")\n",
        "print(f\"Validation Accuracy: {accuracy}\")"
      ],
      "execution_count": 18,
      "outputs": [
        {
          "output_type": "stream",
          "name": "stdout",
          "text": [
            "\u001b[1m94/94\u001b[0m \u001b[32m━━━━━━━━━━━━━━━━━━━━\u001b[0m\u001b[37m\u001b[0m \u001b[1m12s\u001b[0m 129ms/step - accuracy: 0.6398 - loss: 3.8464\n",
            "Validation Loss: 3.978771448135376\n",
            "Validation Accuracy: 0.628333330154419\n"
          ]
        }
      ]
    },
    {
      "cell_type": "markdown",
      "metadata": {
        "id": "dbe76c97"
      },
      "source": [
        "## Model Conversion to TensorFlow Lite\n",
        "\n",
        "### Subtask:\n",
        "Convert the trained model to TensorFlow Lite format for deployment on edge devices."
      ]
    },
    {
      "cell_type": "markdown",
      "metadata": {
        "id": "38707f86"
      },
      "source": [
        "**Reasoning**:\n",
        "Convert the trained Keras model to a TensorFlow Lite model using the `TFLiteConverter.from_keras_model`."
      ]
    },
    {
      "cell_type": "code",
      "metadata": {
        "colab": {
          "base_uri": "https://localhost:8080/"
        },
        "id": "3b6a2a6d",
        "outputId": "05b2bff4-cedb-4915-8b0f-4b34ed956f4b"
      },
      "source": [
        "converter = tf.lite.TFLiteConverter.from_keras_model(model)\n",
        "tflite_model = converter.convert()\n",
        "\n",
        "# Save the converted model to a file\n",
        "with open('waste_classifier.tflite', 'wb') as f:\n",
        "    f.write(tflite_model)\n",
        "\n",
        "print(\"Model converted to TensorFlow Lite and saved as 'waste_classifier.tflite'\")"
      ],
      "execution_count": 19,
      "outputs": [
        {
          "output_type": "stream",
          "name": "stdout",
          "text": [
            "Saved artifact at '/tmp/tmpbci1tldx'. The following endpoints are available:\n",
            "\n",
            "* Endpoint 'serve'\n",
            "  args_0 (POSITIONAL_ONLY): TensorSpec(shape=(None, 128, 128, 3), dtype=tf.float32, name='keras_tensor_22')\n",
            "Output Type:\n",
            "  TensorSpec(shape=(None, 30), dtype=tf.float32, name=None)\n",
            "Captures:\n",
            "  139780601582736: TensorSpec(shape=(), dtype=tf.resource, name=None)\n",
            "  139780601592528: TensorSpec(shape=(), dtype=tf.resource, name=None)\n",
            "  139780601590608: TensorSpec(shape=(), dtype=tf.resource, name=None)\n",
            "  139780601591184: TensorSpec(shape=(), dtype=tf.resource, name=None)\n",
            "  139780601590224: TensorSpec(shape=(), dtype=tf.resource, name=None)\n",
            "  139780601589072: TensorSpec(shape=(), dtype=tf.resource, name=None)\n",
            "  139780601592144: TensorSpec(shape=(), dtype=tf.resource, name=None)\n",
            "  139780601589648: TensorSpec(shape=(), dtype=tf.resource, name=None)\n",
            "  139780601586576: TensorSpec(shape=(), dtype=tf.resource, name=None)\n",
            "  139780601587536: TensorSpec(shape=(), dtype=tf.resource, name=None)\n",
            "Model converted to TensorFlow Lite and saved as 'waste_classifier.tflite'\n"
          ]
        }
      ]
    },
    {
      "cell_type": "markdown",
      "metadata": {
        "id": "1b57da48"
      },
      "source": [
        "## TensorFlow Lite Model Testing\n",
        "\n",
        "### Subtask:\n",
        "Test the converted TensorFlow Lite model to ensure it works correctly and efficiently."
      ]
    },
    {
      "cell_type": "markdown",
      "metadata": {
        "id": "aff8a03f"
      },
      "source": [
        "**Reasoning**:\n",
        "Load the TensorFlow Lite model and create an interpreter. Get the input and output tensors and allocate tensors."
      ]
    },
    {
      "cell_type": "code",
      "metadata": {
        "colab": {
          "base_uri": "https://localhost:8080/"
        },
        "id": "83d01b68",
        "outputId": "cf65c8a4-b4e4-4819-ead8-b229bc8e9ad6"
      },
      "source": [
        "import numpy as np\n",
        "\n",
        "# Load the TFLite model\n",
        "interpreter = tf.lite.Interpreter(model_path=\"waste_classifier.tflite\")\n",
        "interpreter.allocate_tensors()\n",
        "\n",
        "# Get input and output tensors.\n",
        "input_details = interpreter.get_input_details()\n",
        "output_details = interpreter.get_output_details()\n",
        "\n",
        "print(\"Input details:\", input_details)\n",
        "print(\"Output details:\", output_details)"
      ],
      "execution_count": 20,
      "outputs": [
        {
          "output_type": "stream",
          "name": "stdout",
          "text": [
            "Input details: [{'name': 'serving_default_keras_tensor_22:0', 'index': 0, 'shape': array([  1, 128, 128,   3], dtype=int32), 'shape_signature': array([ -1, 128, 128,   3], dtype=int32), 'dtype': <class 'numpy.float32'>, 'quantization': (0.0, 0), 'quantization_parameters': {'scales': array([], dtype=float32), 'zero_points': array([], dtype=int32), 'quantized_dimension': 0}, 'sparsity_parameters': {}}]\n",
            "Output details: [{'name': 'StatefulPartitionedCall_1:0', 'index': 21, 'shape': array([ 1, 30], dtype=int32), 'shape_signature': array([-1, 30], dtype=int32), 'dtype': <class 'numpy.float32'>, 'quantization': (0.0, 0), 'quantization_parameters': {'scales': array([], dtype=float32), 'zero_points': array([], dtype=int32), 'quantized_dimension': 0}, 'sparsity_parameters': {}}]\n"
          ]
        }
      ]
    },
    {
      "cell_type": "markdown",
      "metadata": {
        "id": "67d3fd08"
      },
      "source": [
        "**Reasoning**:\n",
        "Get a sample image and label from the validation dataset, preprocess the image to match the model input requirements, and run inference with the TensorFlow Lite model. Then, get the prediction results and compare them with the true label."
      ]
    },
    {
      "cell_type": "code",
      "metadata": {
        "colab": {
          "base_uri": "https://localhost:8080/"
        },
        "id": "f43ad6a4",
        "outputId": "2cf1c983-7a32-4752-c20b-530f0db44673"
      },
      "source": [
        "# Get a sample image and label from the validation dataset\n",
        "for images, labels in val_ds.take(1):\n",
        "    sample_image = images[0]\n",
        "    sample_label = labels[0]\n",
        "\n",
        "# The model expects a batch of images, so add an extra dimension\n",
        "input_data = np.expand_dims(sample_image, axis=0)\n",
        "\n",
        "# Set the tensor to the input data\n",
        "interpreter.set_tensor(input_details[0]['index'], input_data)\n",
        "\n",
        "# Run inference\n",
        "interpreter.invoke()\n",
        "\n",
        "# Get the output tensor\n",
        "output_data = interpreter.get_tensor(output_details[0]['index'])\n",
        "\n",
        "# The output is a probability distribution, get the predicted class index\n",
        "predicted_class_index = np.argmax(output_data)\n",
        "\n",
        "# Get the true class index\n",
        "true_class_index = np.argmax(sample_label.numpy())\n",
        "\n",
        "# Get the class names (assuming class_names variable is available)\n",
        "predicted_class_name = class_names[predicted_class_index]\n",
        "true_class_name = class_names[true_class_index]\n",
        "\n",
        "\n",
        "print(f\"True Class: {true_class_name}\")\n",
        "print(f\"Predicted Class: {predicted_class_name}\")\n",
        "\n",
        "# You can optionally visualize the image\n",
        "# import matplotlib.pyplot as plt\n",
        "# plt.imshow(sample_image.numpy())\n",
        "# plt.title(f\"True: {true_class_name}, Predicted: {predicted_class_name}\")\n",
        "# plt.axis('off')\n",
        "# plt.show()"
      ],
      "execution_count": 21,
      "outputs": [
        {
          "output_type": "stream",
          "name": "stdout",
          "text": [
            "True Class: plastic_trash_bags\n",
            "Predicted Class: plastic_trash_bags\n"
          ]
        }
      ]
    },
    {
      "cell_type": "markdown",
      "metadata": {
        "id": "c57c902a"
      },
      "source": [
        "## Edge AI Explanation\n",
        "\n",
        "### Subtask:\n",
        "Explain the benefits of Edge AI for real-time applications, specifically in the context of this image classification task."
      ]
    },
    {
      "cell_type": "markdown",
      "metadata": {
        "id": "3a451f83"
      },
      "source": [
        "**Reasoning**:\n",
        "Explain the benefits of Edge AI for real-time applications, including low latency, reduced bandwidth, enhanced privacy, and cost-effectiveness, relating them to the recyclable item classification task."
      ]
    },
    {
      "cell_type": "markdown",
      "metadata": {
        "id": "1a0e53b4"
      },
      "source": [
        "### Benefits of Edge AI for Real-Time Recyclable Item Classification\n",
        "\n",
        "Edge AI refers to running AI and machine learning models directly on a local device (like a smartphone, a smart camera, or an embedded system) rather than relying on cloud-based servers. For real-time recyclable item classification, deploying the TensorFlow Lite model to the edge offers significant advantages:\n",
        "\n",
        "*   **Low Latency:** Processing images directly on the device eliminates the time delay associated with sending data to the cloud and receiving a response. This is crucial for real-time applications where quick decisions are needed, such as sorting waste on a conveyor belt.\n",
        "*   **Reduced Bandwidth:** Edge AI reduces the need to constantly transmit large image files over the internet to a central server. This saves bandwidth, which can be important in environments with limited connectivity or high data costs.\n",
        "*   **Enhanced Privacy:** Processing data locally on the device can improve privacy, as sensitive image data does not need to be sent to the cloud for analysis.\n",
        "*   **Cost-Effectiveness:** While there might be an initial cost for edge hardware, running inference on the edge can be more cost-effective in the long run compared to the ongoing costs of cloud computing resources, especially for applications with high inference volume.\n",
        "*   **Offline Capability:** Edge AI allows the application to function even without a continuous internet connection, making it reliable in various operational environments.\n",
        "\n",
        "In the context of recyclable item classification, these benefits translate to a more responsive and efficient system. A device with an edge AI model can quickly identify and categorize waste items as they are presented, enabling faster sorting processes and potentially reducing contamination in recycling streams. This can be applied in various scenarios, from automated sorting facilities to smart bins or even mobile applications that help individuals identify recyclable materials."
      ]
    },
    {
      "cell_type": "markdown",
      "metadata": {
        "id": "7295ce9b"
      },
      "source": [
        "## Report Generation\n",
        "\n",
        "### Subtask:\n",
        "Prepare a report summarizing the code, accuracy metrics, and deployment steps."
      ]
    },
    {
      "cell_type": "markdown",
      "metadata": {
        "id": "225391f9"
      },
      "source": [
        "## Report: Lightweight Image Classification Model for Recyclable Items\n",
        "\n",
        "### Objective:\n",
        "Train a lightweight image classification model using TensorFlow Lite for recognizing recyclable items from the provided dataset, convert it to TensorFlow Lite, test its performance, and explain the benefits of Edge AI for this application.\n",
        "\n",
        "### Data Loading and Preprocessing:\n",
        "The dataset was loaded from \"/content/waste.zip\". After extracting the zip file, the images were found to be organized in subdirectories within `/content/waste/waste/images/images`, with each subdirectory representing a class. The `tf.keras.utils.image_dataset_from_directory` function was used to load the training and validation datasets, specifying the correct directory path, image size (128x128), and batch size (32). The datasets were normalized by rescaling the pixel values to the range [0, 1] and prefetched for performance.\n",
        "\n",
        "Number of classes found: 30\n",
        "Class names: ['aerosol_cans', 'aluminum_food_cans', 'aluminum_soda_cans', 'cardboard_boxes', 'cardboard_packaging', 'clothing', 'coffee_grounds', 'disposable_plastic_cutlery', 'eggshells', 'food_waste', 'glass_beverage_bottles', 'glass_cosmetic_containers', 'glass_food_jars', 'magazines', 'newspaper', 'office_paper', 'paper_cups', 'plastic_cup_lids', 'plastic_detergent_bottles', 'plastic_food_containers', 'plastic_shopping_bags', 'plastic_soda_bottles', 'plastic_straws', 'plastic_trash_bags', 'plastic_water_bottles', 'shoes', 'steel_food_cans', 'styrofoam_cups', 'styrofoam_food_containers', 'tea_bags']\n",
        "\n",
        "### Model Definition:\n",
        "A lightweight Convolutional Neural Network (CNN) model was defined using TensorFlow Keras Sequential API. The model consists of three convolutional layers with MaxPooling layers, followed by a Flatten layer and two Dense layers. The final Dense layer has 30 units with a softmax activation for multi-class classification.\n",
        "\n",
        "Model Summary:\n",
        "(See Model Summary output from cell `7e474ebf`)\n",
        "\n",
        "### Model Training:\n",
        "The model was compiled with the Adam optimizer, categorical crossentropy loss function, and accuracy as the evaluation metric. The model was trained for 15 epochs using the prepared training and validation datasets.\n",
        "\n",
        "Training History:\n",
        "(See Training History output from cell `d68d0864`)\n",
        "\n",
        "### Model Evaluation:\n",
        "The trained model was evaluated on the validation dataset to obtain accuracy metrics.\n",
        "\n",
        "Validation Loss: 3.9788\n",
        "Validation Accuracy: 0.6283\n",
        "\n",
        "### Model Conversion to TensorFlow Lite:\n",
        "The trained Keras model was converted to TensorFlow Lite format using `tf.lite.TFLiteConverter.from_keras_model`. The converted model was saved to a file named `waste_classifier.tflite`.\n",
        "\n",
        "### TensorFlow Lite Model Testing:\n",
        "The converted TensorFlow Lite model was loaded using the `tf.lite.Interpreter`. A sample image from the validation dataset was used to perform inference with the TFLite model. The predicted class was compared with the true class to verify the model's functionality.\n",
        "\n",
        "Sample Test Result:\n",
        "True Class: plastic_trash_bags\n",
        "Predicted Class: plastic_trash_bags\n",
        "\n",
        "### Edge AI Explanation:\n",
        "Deploying this model to the edge offers several benefits for real-time recyclable item classification:\n",
        "\n",
        "*   **Low Latency:** Enables quick identification of waste items for faster sorting.\n",
        "*   **Reduced Bandwidth:** Decreases the need to send large image data to the cloud.\n",
        "*   **Enhanced Privacy:** Image data is processed locally, improving privacy.\n",
        "*   **Cost-Effectiveness:** Can be more cost-effective than cloud-based inference for high-volume applications.\n",
        "*   **Offline Capability:** Allows the system to function without continuous internet access.\n",
        "\n",
        "These benefits make Edge AI a suitable approach for real-time waste classification applications in various environments.\n",
        "\n",
        "### Deployment Steps:\n",
        "1.  **Obtain the TensorFlow Lite Model:** The converted model `waste_classifier.tflite` is ready for deployment.\n",
        "2.  **Choose an Edge Device:** Select a suitable edge device (e.g., smartphone, Raspberry Pi, embedded system) that supports TensorFlow Lite.\n",
        "3.  **Integrate the Model:** Integrate the `waste_classifier.tflite` model into your application on the chosen edge device using the TensorFlow Lite interpreter.\n",
        "4.  **Preprocessing:** Implement the same preprocessing steps (rescaling to [0, 1] and resizing to 128x128) for new images before feeding them to the TFLite model.\n",
        "5.  **Inference:** Run inference using the TFLite interpreter to get predictions for new images.\n",
        "6.  **Postprocessing:** Interpret the model's output (probability distribution) to determine the predicted class.\n",
        "7.  **Application Logic:** Implement the application logic based on the predicted class (e.g., control a sorting mechanism, display the class name to the user).\n",
        "\n",
        "This report summarizes the process of training and converting a lightweight image classification model for recyclable items to TensorFlow Lite and highlights the advantages of using Edge AI for this task. The trained model and the TensorFlow Lite file are available for further use and deployment."
      ]
    },
    {
      "cell_type": "markdown",
      "metadata": {
        "id": "8ece934f"
      },
      "source": [
        "## Visualize Accuracy\n",
        "\n",
        "### Subtask:\n",
        "Visualize the training and validation accuracy of the model over epochs."
      ]
    },
    {
      "cell_type": "markdown",
      "metadata": {
        "id": "e0f509ea"
      },
      "source": [
        "**Reasoning**:\n",
        "Plot the training and validation accuracy over epochs using matplotlib."
      ]
    },
    {
      "cell_type": "code",
      "metadata": {
        "colab": {
          "base_uri": "https://localhost:8080/",
          "height": 472
        },
        "id": "7231bd3c",
        "outputId": "d2e620dd-9ddd-426c-8bf9-9d8cea713c1f"
      },
      "source": [
        "import matplotlib.pyplot as plt\n",
        "\n",
        "# Plot training and validation accuracy\n",
        "plt.plot(history.history['accuracy'], label='Training Accuracy')\n",
        "plt.plot(history.history['val_accuracy'], label='Validation Accuracy')\n",
        "plt.xlabel('Epoch')\n",
        "plt.ylabel('Accuracy')\n",
        "plt.title('Training and Validation Accuracy')\n",
        "plt.legend()\n",
        "plt.show()"
      ],
      "execution_count": 22,
      "outputs": [
        {
          "output_type": "display_data",
          "data": {
            "text/plain": [
              "<Figure size 640x480 with 1 Axes>"
            ],
            "image/png": "[encoded data removed]"
          },
          "metadata": {}
        }
      ]
    },
    {
      "cell_type": "markdown",
      "metadata": {
        "id": "9300dd7d"
      },
      "source": [
        "The model's validation accuracy of around 62.8% indicates that there is room for improvement. Several factors could contribute to this inaccuracy:\n",
        "\n",
        "*   **Dataset Size and Variety:** While 15,000 images is a good starting point, the complexity of distinguishing between 30 classes of waste might require a larger and more diverse dataset. Variations in lighting, angles, and the state of the waste items can also impact performance.\n",
        "*   **Class Imbalance:** Some classes in the dataset might have significantly more images than others. This can lead to the model being biased towards the majority classes and performing poorly on minority classes.\n",
        "*   **Model Architecture Complexity:** The current lightweight CNN model, while suitable for edge deployment, might not be complex enough to capture the intricate features needed to differentiate between all 30 waste categories effectively. More complex architectures or pre-trained models might be necessary.\n",
        "*   **Hyperparameters:** The chosen hyperparameters (e.g., learning rate, batch size, number of epochs) might not be optimal for this specific dataset and model architecture.\n",
        "*   **Overfitting:** While the training accuracy is very high (around 97%), the validation accuracy is significantly lower. This suggests that the model might be overfitting to the training data and not generalizing well to unseen images. The lack of regularization and data augmentation in the initial training could contribute to this.\n",
        "*   **Image Resolution and Quality:** The image size of 128x128 pixels might be too low to preserve enough detail for accurate classification of some waste items, especially those with subtle differences.\n",
        "*   **Labeling Errors:** Inaccurate labels in the dataset can also lead to the model learning incorrect associations.\n",
        "\n",
        "To improve the model's accuracy, we can explore strategies such as data augmentation, trying different model architectures, hyperparameter tuning, and utilizing transfer learning."
      ]
    }
  ]
}